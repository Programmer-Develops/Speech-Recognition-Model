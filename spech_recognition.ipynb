{
  "nbformat": 4,
  "nbformat_minor": 0,
  "metadata": {
    "colab": {
      "provenance": [],
      "authorship_tag": "ABX9TyPsB47TOkc8JyzJfSPy4d4d"
    },
    "kernelspec": {
      "name": "python3",
      "display_name": "Python 3"
    },
    "language_info": {
      "name": "python"
    }
  },
  "cells": [
    {
      "cell_type": "code",
      "execution_count": 1,
      "metadata": {
        "id": "a35bHpFTFo6k"
      },
      "outputs": [],
      "source": [
        "# Display waveform and spectrogram of the audio file\n",
        "\n",
        "import librosa\n",
        "import librosa.display\n",
        "import matplotlib.pyplot as plt\n",
        "\n",
        "y, sr = librosa.load('voice-assistants.wav')\n",
        "plt.figure(figsize=(10, 4))\n",
        "librosa.display.waveshow(y, sr=sr)\n",
        "plt.title('Waveform')\n",
        "plt.show()\n",
        "\n",
        "# Spectrogram\n",
        "X = librosa.stft(y)\n",
        "Xdb = librosa.amplitude_to_db(abs(X))\n",
        "plt.figure(figsize=(10, 4))\n",
        "librosa.display.specshow(Xdb, sr=sr, x_axis='time', y_axis='hz')\n",
        "plt.colorbar()\n",
        "plt.title('Spectrogram')\n",
        "plt.show()\n"
      ]
    }
  ]
}